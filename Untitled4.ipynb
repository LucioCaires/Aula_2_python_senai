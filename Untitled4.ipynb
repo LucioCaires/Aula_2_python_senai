{
  "nbformat": 4,
  "nbformat_minor": 0,
  "metadata": {
    "colab": {
      "provenance": [],
      "authorship_tag": "ABX9TyP/uVZA7+2PXakCcCVFg7b9",
      "include_colab_link": true
    },
    "kernelspec": {
      "name": "python3",
      "display_name": "Python 3"
    },
    "language_info": {
      "name": "python"
    }
  },
  "cells": [
    {
      "cell_type": "markdown",
      "metadata": {
        "id": "view-in-github",
        "colab_type": "text"
      },
      "source": [
        "<a href=\"https://colab.research.google.com/github/LucioCaires/Aula_2_python_senai/blob/main/Untitled4.ipynb\" target=\"_parent\"><img src=\"https://colab.research.google.com/assets/colab-badge.svg\" alt=\"Open In Colab\"/></a>"
      ]
    },
    {
      "cell_type": "code",
      "execution_count": null,
      "metadata": {
        "id": "BAW5gfv_cqMj"
      },
      "outputs": [],
      "source": [
        "n1\n",
        "n2\n",
        "s = n1 + n2\n",
        "n1 = int(input('Digite um Número '))\n",
        "n2 = int(input('Digite outro Número '))\n",
        "print('A Soma entre {} e {} é igual a {}'.format(n1,n2, s))\n",
        "\n",
        "# Exercício 1: Verificação de Número Positivo\n",
        "\n",
        "# Escreva um programa em Python que solicite ao\n",
        "# usuário um número inteiro e\n",
        "# verifique se o número é positivo, negativo ou zero.\n",
        "# Em seguida, exiba uma mensagem apropriada de acordo\n",
        "# com o resultado da verificação.\n",
        "\n",
        "n1  = int(input(\"Digite um número \"))\n",
        "\n",
        "if n1 > 0:\n",
        "  print (\"Positivo\")\n",
        "elif n1 < 0:\n",
        "  print(\"Negativo\")\n",
        "else:\n",
        "  print(\"é 0\")\n",
        "\n",
        "\n",
        "# Exercício 2: Classificação de Triângulos\n",
        "\n",
        "# Escreva um programa em Python que receba três comprimentos de lados de um triângulo e\n",
        "# determine se o triângulo\n",
        "# é equilátero, isósceles ou escaleno.\n",
        "\n",
        "iso  -  2 lados iguais\n",
        "equi - 3 iguais\n",
        "esca -  todos diferentes\n",
        "\n",
        "tri1 = int(input(\"Digite um valor\"))\n",
        "tri2 = int(input(\"Digite um valor\"))\n",
        "tri3 = int(input(\"Digite um valor\"))\n",
        "\n",
        "if tri1 == tri2 == tri3:\n",
        "  print(\"equilatero\")\n",
        "if tri1 == tri2 or tri3 == tri1 or  tri2 == tri3:\n",
        "  print(\"Isoceles \")\n",
        "if tri1 !=tri2 != tri3:\n",
        "  print(\"escaleno\")\n",
        "\n",
        "\n",
        "# Exercício 3: Verificação de Ano Bissexto\n",
        "\n",
        "# Um ano é bissexto se for divisível por 4, exceto para anos que são divisíveis por 100.\n",
        "# No entanto, anos divisíveis por 400\n",
        "# também são bissextos. Escreva um programa em Python que solicite um ano ao usuário\n",
        "# e determine se é um ano bissexto ou não.\n",
        "\n",
        "\n",
        "\n",
        "\n",
        "ano  =  int(input(\"Digite o ano\"))\n",
        "\n",
        "if  ano % 4 == 0:\n",
        "    print(\"O ano é bissexto\")\n",
        "else:\n",
        "    print(\"Não é bissexto\")\n",
        "\n",
        "\n",
        "\n"
      ]
    }
  ]
}